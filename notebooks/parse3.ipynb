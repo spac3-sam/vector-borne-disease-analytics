{
 "cells": [
  {
   "cell_type": "code",
   "execution_count": 1,
   "source": [
    "import pandas as pd\r\n",
    "from tqdm import tqdm\r\n",
    "tqdm.pandas()"
   ],
   "outputs": [],
   "metadata": {}
  },
  {
   "cell_type": "code",
   "execution_count": 87,
   "source": [
    "import re\r\n",
    "from datetime import datetime\r\n",
    "from geopy import Nominatim\r\n",
    "from geopy.extra.rate_limiter import RateLimiter"
   ],
   "outputs": [],
   "metadata": {}
  },
  {
   "cell_type": "code",
   "execution_count": 88,
   "source": [
    "locator = Nominatim(user_agent=\"ppcoom\")\r\n",
    "geocode = RateLimiter(locator.geocode, min_delay_seconds=1/20)\r\n",
    "dengue_regex = re.compile(r'([A-Za-z ]+).*\\[w\\/e (.+)\\] \\/ (.+) \\/ (.+) \\/ (.+) \\/ (.+) \\/ (.+)', re.MULTILINE)"
   ],
   "outputs": [],
   "metadata": {}
  },
  {
   "cell_type": "code",
   "execution_count": 4,
   "source": [
    "df = pd.read_feather('combined_df_anomaly.feather')"
   ],
   "outputs": [],
   "metadata": {}
  },
  {
   "cell_type": "code",
   "execution_count": 181,
   "source": [
    "dengue_df = df[df['disease'] == 'dengue']"
   ],
   "outputs": [],
   "metadata": {}
  },
  {
   "cell_type": "code",
   "execution_count": 183,
   "source": [
    "def parse_dengue(row):\r\n",
    "    return pd.DataFrame([(\r\n",
    "        *row[2:],\r\n",
    "        match[0].strip(),\r\n",
    "        pd.NA if re.match(r'\\d+ \\w{3} \\w{4}', re.sub(r'[^\\w ]+', '', match[1])) is None \r\n",
    "            else datetime.strptime(re.sub(r'[^\\w ]+', '', match[1]), r'%d %b %Y'),\r\n",
    "        match[2],\r\n",
    "        *[pd.NA if not match[i].replace(' ', '').isnumeric() else int(match[i].replace(' ', '')) for i in range(3, 7)])\r\n",
    "        for match in dengue_regex.findall(row['content'])],\r\n",
    "        columns=[\r\n",
    "        *row[2:].keys(),\r\n",
    "        'location_name',\r\n",
    "        'dates_start',\r\n",
    "        'serotype',\r\n",
    "        'total_cases',\r\n",
    "        'confirmed_cases',\r\n",
    "        'severe_cases',\r\n",
    "        'deaths'\r\n",
    "    ])\r\n"
   ],
   "outputs": [],
   "metadata": {}
  },
  {
   "cell_type": "code",
   "execution_count": 184,
   "source": [
    "dengue_df_parse = pd.concat([parse_dengue(row) for i, row in tqdm(dengue_df.iterrows())])\r\n"
   ],
   "outputs": [
    {
     "output_type": "stream",
     "name": "stderr",
     "text": [
      "1412it [00:43, 32.57it/s] \n"
     ]
    }
   ],
   "metadata": {}
  },
  {
   "cell_type": "code",
   "execution_count": 185,
   "source": [
    "dengue_df_parse['location'] = dengue_df_parse['location_name'].progress_apply(geocode)\r\n",
    "dengue_df_parse['point'] = dengue_df_parse['location'].progress_apply(lambda loc: tuple(loc.point) if loc else None)\r\n",
    "dengue_df_parse[['zoom_lat', 'zoom_lon', 'altitude']] = pd.DataFrame(dengue_df_parse['point'].tolist(), index=dengue_df_parse.index)\r\n",
    "dengue_df_parse = dengue_df_parse.drop(['location', 'point', 'altitude'], axis=1)\r\n",
    "dengue_df_parse = dengue_df_parse.reset_index(drop=True)"
   ],
   "outputs": [
    {
     "output_type": "stream",
     "name": "stderr",
     "text": [
      "100%|██████████| 788/788 [06:33<00:00,  2.00it/s]\n",
      "100%|██████████| 788/788 [00:00<00:00, 260101.64it/s]\n"
     ]
    }
   ],
   "metadata": {}
  },
  {
   "cell_type": "code",
   "execution_count": 186,
   "source": [
    "dengue_df_parse.to_feather('dengue_df.feather')"
   ],
   "outputs": [],
   "metadata": {}
  },
  {
   "cell_type": "code",
   "execution_count": 187,
   "source": [
    "dengue_df = pd.read_feather('dengue_df.feather')\r\n",
    "other_df = pd.read_feather('dataset.v1.1.feather')"
   ],
   "outputs": [],
   "metadata": {}
  },
  {
   "cell_type": "code",
   "execution_count": 188,
   "source": [
    "dengue_df = dengue_df.rename({'confirmed_cases': 'cases'}, axis=1)\r\n",
    "full_df = pd.concat([dengue_df,other_df], axis=0, ignore_index=True)"
   ],
   "outputs": [],
   "metadata": {}
  },
  {
   "cell_type": "code",
   "execution_count": 189,
   "source": [
    "len(full_df)"
   ],
   "outputs": [
    {
     "output_type": "execute_result",
     "data": {
      "text/plain": [
       "2112"
      ]
     },
     "metadata": {},
     "execution_count": 189
    }
   ],
   "metadata": {}
  },
  {
   "cell_type": "code",
   "execution_count": 190,
   "source": [
    "full_df = full_df.drop(['Unnamed: 0', 'index'], axis=1)"
   ],
   "outputs": [],
   "metadata": {}
  },
  {
   "cell_type": "code",
   "execution_count": 191,
   "source": [
    "full_df.to_feather('dataset.v1.2.feather')"
   ],
   "outputs": [],
   "metadata": {}
  },
  {
   "cell_type": "code",
   "execution_count": 192,
   "source": [
    "full_df.iloc[0]"
   ],
   "outputs": [
    {
     "output_type": "execute_result",
     "data": {
      "text/plain": [
       "id                                                                 8163513\n",
       "title                                 ['Dengue/DHF update (01): Americas']\n",
       "zoom_lat                                                          23.95046\n",
       "zoom_lon                                                        -102.53289\n",
       "zoom_level                                                               5\n",
       "alert_id                                                           8163513\n",
       "feed_id                                                                  1\n",
       "summary                          PRO/EDR> Dengue/DHF update (01): Americas\n",
       "issue_date                                             2021-02-04 06:39:21\n",
       "load_date                                              2021-02-04 06:39:21\n",
       "incident_date                                                          NaN\n",
       "descr                    Cases by Country / Week updated / Serotype / T...\n",
       "alert_tag_id                                                           NaN\n",
       "dup_count                                                                0\n",
       "dup_of                                                                 NaN\n",
       "unique_string                                              20210204.816351\n",
       "info_hash                                                             None\n",
       "submitted_by                                                        3419.0\n",
       "reviewed                                                              None\n",
       "search_string_id                                                       NaN\n",
       "content                  DENGUE/DHF UPDATE (01): AMERICAS\\n************...\n",
       "disease                                                             dengue\n",
       "gpm_lat_idx                                                           1139\n",
       "gpm_lon_idx                                                            774\n",
       "precipitation_anomaly                                            -0.976294\n",
       "location_name                                                          USA\n",
       "dates_start                                            2021-01-02 00:00:00\n",
       "serotype                                                                 -\n",
       "total_cases                                                          307.0\n",
       "cases                                                                307.0\n",
       "severe_cases                                                           0.0\n",
       "deaths                                                                 0.0\n",
       "location_lat                                                      39.78373\n",
       "location_lon                                                   -100.445882\n",
       "admin1_code                                                            NaN\n",
       "admin2_code                                                            NaN\n",
       "admin3_code                                                            NaN\n",
       "admin4_code                                                            NaN\n",
       "cases_tags                                                             NaN\n",
       "deaths_tags                                                            NaN\n",
       "dates_end                                                              NaT\n",
       "Name: 0, dtype: object"
      ]
     },
     "metadata": {},
     "execution_count": 192
    }
   ],
   "metadata": {}
  },
  {
   "cell_type": "code",
   "execution_count": null,
   "source": [],
   "outputs": [],
   "metadata": {}
  },
  {
   "cell_type": "code",
   "execution_count": 196,
   "source": [
    "full_df[(full_df['diseimerg = ase'] == 'dengue') & full_df['cases'] > 1000]"
   ],
   "outputs": [],
   "metadata": {}
  },
  {
   "cell_type": "code",
   "execution_count": 194,
   "source": [],
   "outputs": [],
   "metadata": {}
  },
  {
   "cell_type": "code",
   "execution_count": 195,
   "source": [
    "from datetime import datetime\r\n",
    "time = datetime(2000, 6, 21, 19, 30, 0)\r\n",
    "time_end = time.strftime(r'%Y-%m-%dT%H:%M:%S')"
   ],
   "outputs": [
    {
     "output_type": "execute_result",
     "data": {
      "text/plain": [
       "'2000-06-21T19:30:00'"
      ]
     },
     "metadata": {},
     "execution_count": 195
    }
   ],
   "metadata": {}
  },
  {
   "cell_type": "code",
   "execution_count": 3,
   "source": [
    "imerg = \"\"\"prod_name,GPM_3IMERGHH.06\r\n",
    "param_short_name,precipitationCal\r\n",
    "param_name,Multi-satellite precipitation estimate with gauge calibration - Final Run (recommended for general use)\r\n",
    "unit,mm/hr\r\n",
    "undef,-9.9999e+3\r\n",
    "begin_time,2000-06-01 00:00:00\r\n",
    "end_time,2000-06-01 07:30:00\r\n",
    "lat,4.75\r\n",
    "lon,0.55\r\n",
    "lat_resolution,0.1\r\n",
    "lat_resolution,0.1\r\n",
    "mean,9.7633e+00\r\n",
    "Request_time,2021-08-09 05:47:54\r\n",
    "\r\n",
    "Timestamp (UTC),Data\r\n",
    "2000-06-01 00:00,1.6826e+00\r\n",
    "2000-06-01 00:30,1.8239e+00\r\n",
    "2000-06-01 01:00,3.2667e+00\r\n",
    "2000-06-01 01:30,1.7841e+00\r\n",
    "2000-06-01 02:00,8.7605e-01\r\n",
    "2000-06-01 02:30,1.8455e+00\r\n",
    "2000-06-01 03:00,3.6081e+00\"\"\""
   ],
   "outputs": [],
   "metadata": {}
  },
  {
   "cell_type": "code",
   "execution_count": 2,
   "source": [
    "from io import StringIO"
   ],
   "outputs": [],
   "metadata": {}
  },
  {
   "cell_type": "code",
   "execution_count": 5,
   "source": [
    "import pandas as pd"
   ],
   "outputs": [],
   "metadata": {}
  },
  {
   "cell_type": "code",
   "execution_count": 9,
   "source": [
    "import requests\r\n",
    "from io import StringIO\r\n",
    "\r\n",
    "# ...\r\n",
    "# ...\r\n",
    "response = requests.get('https://api.giovanni.earthdata.nasa.gov/timeseries', headers=headers, params=params)\r\n",
    "\r\n",
    "df = None\r\n",
    "if response.status_code == 200:\r\n",
    "\tresult = response.text\r\n",
    "\twith StringIO(result[result.index('Timestamp (UTC)'):]) as data:\r\n",
    "\t\tdf = pd.read_csv(data)\r\n",
    "else:\r\n",
    "\tprint(f'Error: code {response.status_code}')"
   ],
   "outputs": [],
   "metadata": {}
  },
  {
   "cell_type": "code",
   "execution_count": 13,
   "source": [
    "test.keys()"
   ],
   "outputs": [
    {
     "output_type": "execute_result",
     "data": {
      "text/plain": [
       "Index(['Timestamp (UTC)', 'Data'], dtype='object')"
      ]
     },
     "metadata": {},
     "execution_count": 13
    }
   ],
   "metadata": {}
  },
  {
   "cell_type": "code",
   "execution_count": 14,
   "source": [
    "from datetime import datetime"
   ],
   "outputs": [],
   "metadata": {}
  },
  {
   "cell_type": "code",
   "execution_count": 15,
   "source": [
    "datetime(year=2000, month=6, day=21, hour=19, minute=30, second=0)"
   ],
   "outputs": [
    {
     "output_type": "execute_result",
     "data": {
      "text/plain": [
       "datetime.datetime(2000, 6, 21, 19, 30)"
      ]
     },
     "metadata": {},
     "execution_count": 15
    }
   ],
   "metadata": {}
  },
  {
   "cell_type": "code",
   "execution_count": 1,
   "source": [
    "import pandas as pd"
   ],
   "outputs": [],
   "metadata": {}
  },
  {
   "cell_type": "code",
   "execution_count": 2,
   "source": [
    "df = pd.read_feather('dataset.v1.2.feather')"
   ],
   "outputs": [],
   "metadata": {}
  },
  {
   "cell_type": "code",
   "execution_count": 3,
   "source": [
    "df.head()"
   ],
   "outputs": [
    {
     "output_type": "execute_result",
     "data": {
      "text/plain": [
       "        id                                 title  zoom_lat   zoom_lon  \\\n",
       "0  8163513  ['Dengue/DHF update (01): Americas']  23.95046 -102.53289   \n",
       "1  8163513  ['Dengue/DHF update (01): Americas']  23.95046 -102.53289   \n",
       "2  8163513  ['Dengue/DHF update (01): Americas']  23.95046 -102.53289   \n",
       "3  8163513  ['Dengue/DHF update (01): Americas']  23.95046 -102.53289   \n",
       "4  8163513  ['Dengue/DHF update (01): Americas']  23.95046 -102.53289   \n",
       "\n",
       "   zoom_level  alert_id  feed_id                                    summary  \\\n",
       "0           5   8163513        1  PRO/EDR> Dengue/DHF update (01): Americas   \n",
       "1           5   8163513        1  PRO/EDR> Dengue/DHF update (01): Americas   \n",
       "2           5   8163513        1  PRO/EDR> Dengue/DHF update (01): Americas   \n",
       "3           5   8163513        1  PRO/EDR> Dengue/DHF update (01): Americas   \n",
       "4           5   8163513        1  PRO/EDR> Dengue/DHF update (01): Americas   \n",
       "\n",
       "            issue_date            load_date  ...  deaths location_lat  \\\n",
       "0  2021-02-04 06:39:21  2021-02-04 06:39:21  ...     0.0    39.783730   \n",
       "1  2021-02-04 06:39:21  2021-02-04 06:39:21  ...     0.0    16.825979   \n",
       "2  2021-02-04 06:39:21  2021-02-04 06:39:21  ...     0.0    10.273563   \n",
       "3  2021-02-04 06:39:21  2021-02-04 06:39:21  ...     0.0    13.800038   \n",
       "4  2021-02-04 06:39:21  2021-02-04 06:39:21  ...     8.0    15.635609   \n",
       "\n",
       "   location_lon  admin1_code  admin2_code  admin3_code admin4_code  \\\n",
       "0   -100.445882         None         None         None        None   \n",
       "1    -88.760093         None         None         None        None   \n",
       "2    -84.073910         None         None         None        None   \n",
       "3    -88.914068         None         None         None        None   \n",
       "4    -89.898809         None         None         None        None   \n",
       "\n",
       "   cases_tags deaths_tags  dates_end  \n",
       "0        None        None        NaT  \n",
       "1        None        None        NaT  \n",
       "2        None        None        NaT  \n",
       "3        None        None        NaT  \n",
       "4        None        None        NaT  \n",
       "\n",
       "[5 rows x 41 columns]"
      ],
      "text/html": [
       "<div>\n",
       "<style scoped>\n",
       "    .dataframe tbody tr th:only-of-type {\n",
       "        vertical-align: middle;\n",
       "    }\n",
       "\n",
       "    .dataframe tbody tr th {\n",
       "        vertical-align: top;\n",
       "    }\n",
       "\n",
       "    .dataframe thead th {\n",
       "        text-align: right;\n",
       "    }\n",
       "</style>\n",
       "<table border=\"1\" class=\"dataframe\">\n",
       "  <thead>\n",
       "    <tr style=\"text-align: right;\">\n",
       "      <th></th>\n",
       "      <th>id</th>\n",
       "      <th>title</th>\n",
       "      <th>zoom_lat</th>\n",
       "      <th>zoom_lon</th>\n",
       "      <th>zoom_level</th>\n",
       "      <th>alert_id</th>\n",
       "      <th>feed_id</th>\n",
       "      <th>summary</th>\n",
       "      <th>issue_date</th>\n",
       "      <th>load_date</th>\n",
       "      <th>...</th>\n",
       "      <th>deaths</th>\n",
       "      <th>location_lat</th>\n",
       "      <th>location_lon</th>\n",
       "      <th>admin1_code</th>\n",
       "      <th>admin2_code</th>\n",
       "      <th>admin3_code</th>\n",
       "      <th>admin4_code</th>\n",
       "      <th>cases_tags</th>\n",
       "      <th>deaths_tags</th>\n",
       "      <th>dates_end</th>\n",
       "    </tr>\n",
       "  </thead>\n",
       "  <tbody>\n",
       "    <tr>\n",
       "      <th>0</th>\n",
       "      <td>8163513</td>\n",
       "      <td>['Dengue/DHF update (01): Americas']</td>\n",
       "      <td>23.95046</td>\n",
       "      <td>-102.53289</td>\n",
       "      <td>5</td>\n",
       "      <td>8163513</td>\n",
       "      <td>1</td>\n",
       "      <td>PRO/EDR&gt; Dengue/DHF update (01): Americas</td>\n",
       "      <td>2021-02-04 06:39:21</td>\n",
       "      <td>2021-02-04 06:39:21</td>\n",
       "      <td>...</td>\n",
       "      <td>0.0</td>\n",
       "      <td>39.783730</td>\n",
       "      <td>-100.445882</td>\n",
       "      <td>None</td>\n",
       "      <td>None</td>\n",
       "      <td>None</td>\n",
       "      <td>None</td>\n",
       "      <td>None</td>\n",
       "      <td>None</td>\n",
       "      <td>NaT</td>\n",
       "    </tr>\n",
       "    <tr>\n",
       "      <th>1</th>\n",
       "      <td>8163513</td>\n",
       "      <td>['Dengue/DHF update (01): Americas']</td>\n",
       "      <td>23.95046</td>\n",
       "      <td>-102.53289</td>\n",
       "      <td>5</td>\n",
       "      <td>8163513</td>\n",
       "      <td>1</td>\n",
       "      <td>PRO/EDR&gt; Dengue/DHF update (01): Americas</td>\n",
       "      <td>2021-02-04 06:39:21</td>\n",
       "      <td>2021-02-04 06:39:21</td>\n",
       "      <td>...</td>\n",
       "      <td>0.0</td>\n",
       "      <td>16.825979</td>\n",
       "      <td>-88.760093</td>\n",
       "      <td>None</td>\n",
       "      <td>None</td>\n",
       "      <td>None</td>\n",
       "      <td>None</td>\n",
       "      <td>None</td>\n",
       "      <td>None</td>\n",
       "      <td>NaT</td>\n",
       "    </tr>\n",
       "    <tr>\n",
       "      <th>2</th>\n",
       "      <td>8163513</td>\n",
       "      <td>['Dengue/DHF update (01): Americas']</td>\n",
       "      <td>23.95046</td>\n",
       "      <td>-102.53289</td>\n",
       "      <td>5</td>\n",
       "      <td>8163513</td>\n",
       "      <td>1</td>\n",
       "      <td>PRO/EDR&gt; Dengue/DHF update (01): Americas</td>\n",
       "      <td>2021-02-04 06:39:21</td>\n",
       "      <td>2021-02-04 06:39:21</td>\n",
       "      <td>...</td>\n",
       "      <td>0.0</td>\n",
       "      <td>10.273563</td>\n",
       "      <td>-84.073910</td>\n",
       "      <td>None</td>\n",
       "      <td>None</td>\n",
       "      <td>None</td>\n",
       "      <td>None</td>\n",
       "      <td>None</td>\n",
       "      <td>None</td>\n",
       "      <td>NaT</td>\n",
       "    </tr>\n",
       "    <tr>\n",
       "      <th>3</th>\n",
       "      <td>8163513</td>\n",
       "      <td>['Dengue/DHF update (01): Americas']</td>\n",
       "      <td>23.95046</td>\n",
       "      <td>-102.53289</td>\n",
       "      <td>5</td>\n",
       "      <td>8163513</td>\n",
       "      <td>1</td>\n",
       "      <td>PRO/EDR&gt; Dengue/DHF update (01): Americas</td>\n",
       "      <td>2021-02-04 06:39:21</td>\n",
       "      <td>2021-02-04 06:39:21</td>\n",
       "      <td>...</td>\n",
       "      <td>0.0</td>\n",
       "      <td>13.800038</td>\n",
       "      <td>-88.914068</td>\n",
       "      <td>None</td>\n",
       "      <td>None</td>\n",
       "      <td>None</td>\n",
       "      <td>None</td>\n",
       "      <td>None</td>\n",
       "      <td>None</td>\n",
       "      <td>NaT</td>\n",
       "    </tr>\n",
       "    <tr>\n",
       "      <th>4</th>\n",
       "      <td>8163513</td>\n",
       "      <td>['Dengue/DHF update (01): Americas']</td>\n",
       "      <td>23.95046</td>\n",
       "      <td>-102.53289</td>\n",
       "      <td>5</td>\n",
       "      <td>8163513</td>\n",
       "      <td>1</td>\n",
       "      <td>PRO/EDR&gt; Dengue/DHF update (01): Americas</td>\n",
       "      <td>2021-02-04 06:39:21</td>\n",
       "      <td>2021-02-04 06:39:21</td>\n",
       "      <td>...</td>\n",
       "      <td>8.0</td>\n",
       "      <td>15.635609</td>\n",
       "      <td>-89.898809</td>\n",
       "      <td>None</td>\n",
       "      <td>None</td>\n",
       "      <td>None</td>\n",
       "      <td>None</td>\n",
       "      <td>None</td>\n",
       "      <td>None</td>\n",
       "      <td>NaT</td>\n",
       "    </tr>\n",
       "  </tbody>\n",
       "</table>\n",
       "<p>5 rows × 41 columns</p>\n",
       "</div>"
      ]
     },
     "metadata": {},
     "execution_count": 3
    }
   ],
   "metadata": {}
  },
  {
   "cell_type": "code",
   "execution_count": 4,
   "source": [
    "len(df)"
   ],
   "outputs": [
    {
     "output_type": "execute_result",
     "data": {
      "text/plain": [
       "2112"
      ]
     },
     "metadata": {},
     "execution_count": 4
    }
   ],
   "metadata": {}
  },
  {
   "cell_type": "code",
   "execution_count": 9,
   "source": [
    "# from geopy import Nominatim\r\n",
    "# from geopy.extra.rate_limiter import RateLimiter"
   ],
   "outputs": [],
   "metadata": {}
  },
  {
   "cell_type": "code",
   "execution_count": 10,
   "source": [
    "# locator = Nominatim(user_agent=\"bruh\")\r\n",
    "# geocode = RateLimiter(locator.geocode, min_delay_seconds=1)"
   ],
   "outputs": [],
   "metadata": {}
  },
  {
   "cell_type": "code",
   "execution_count": 11,
   "source": [
    "# location"
   ],
   "outputs": [
    {
     "output_type": "execute_result",
     "data": {
      "text/plain": [
       "Location(Champ de Mars, Rue George Bernard Shaw, Quartier de Grenelle, Paris 15e Arrondissement, Paris, Île-de-France, France métropolitaine, 75015, France, (48.85614465, 2.297820393322227, 0.0))"
      ]
     },
     "metadata": {},
     "execution_count": 11
    }
   ],
   "metadata": {}
  },
  {
   "cell_type": "code",
   "execution_count": 28,
   "source": [
    "df.loc[df['disease'] == 'dengue', ['zoom_lat', 'zoom_lon']] = df.loc[df['disease'] == 'dengue', ['location_lat', 'location_lon']].values"
   ],
   "outputs": [],
   "metadata": {}
  },
  {
   "cell_type": "code",
   "execution_count": 29,
   "source": [
    "df.loc[df['disease'] == 'dengue', ['zoom_lat', 'zoom_lon']]"
   ],
   "outputs": [
    {
     "output_type": "execute_result",
     "data": {
      "text/plain": [
       "      zoom_lat    zoom_lon\n",
       "0    39.783730 -100.445882\n",
       "1    16.825979  -88.760093\n",
       "2    10.273563  -84.073910\n",
       "3    13.800038  -88.914068\n",
       "4    15.635609  -89.898809\n",
       "..         ...         ...\n",
       "783  -1.339767  -79.366697\n",
       "784  -6.869970  -75.045851\n",
       "785 -34.996496  -64.967282\n",
       "786 -10.333333  -53.200000\n",
       "787 -23.316593  -58.169345\n",
       "\n",
       "[788 rows x 2 columns]"
      ],
      "text/html": [
       "<div>\n",
       "<style scoped>\n",
       "    .dataframe tbody tr th:only-of-type {\n",
       "        vertical-align: middle;\n",
       "    }\n",
       "\n",
       "    .dataframe tbody tr th {\n",
       "        vertical-align: top;\n",
       "    }\n",
       "\n",
       "    .dataframe thead th {\n",
       "        text-align: right;\n",
       "    }\n",
       "</style>\n",
       "<table border=\"1\" class=\"dataframe\">\n",
       "  <thead>\n",
       "    <tr style=\"text-align: right;\">\n",
       "      <th></th>\n",
       "      <th>zoom_lat</th>\n",
       "      <th>zoom_lon</th>\n",
       "    </tr>\n",
       "  </thead>\n",
       "  <tbody>\n",
       "    <tr>\n",
       "      <th>0</th>\n",
       "      <td>39.783730</td>\n",
       "      <td>-100.445882</td>\n",
       "    </tr>\n",
       "    <tr>\n",
       "      <th>1</th>\n",
       "      <td>16.825979</td>\n",
       "      <td>-88.760093</td>\n",
       "    </tr>\n",
       "    <tr>\n",
       "      <th>2</th>\n",
       "      <td>10.273563</td>\n",
       "      <td>-84.073910</td>\n",
       "    </tr>\n",
       "    <tr>\n",
       "      <th>3</th>\n",
       "      <td>13.800038</td>\n",
       "      <td>-88.914068</td>\n",
       "    </tr>\n",
       "    <tr>\n",
       "      <th>4</th>\n",
       "      <td>15.635609</td>\n",
       "      <td>-89.898809</td>\n",
       "    </tr>\n",
       "    <tr>\n",
       "      <th>...</th>\n",
       "      <td>...</td>\n",
       "      <td>...</td>\n",
       "    </tr>\n",
       "    <tr>\n",
       "      <th>783</th>\n",
       "      <td>-1.339767</td>\n",
       "      <td>-79.366697</td>\n",
       "    </tr>\n",
       "    <tr>\n",
       "      <th>784</th>\n",
       "      <td>-6.869970</td>\n",
       "      <td>-75.045851</td>\n",
       "    </tr>\n",
       "    <tr>\n",
       "      <th>785</th>\n",
       "      <td>-34.996496</td>\n",
       "      <td>-64.967282</td>\n",
       "    </tr>\n",
       "    <tr>\n",
       "      <th>786</th>\n",
       "      <td>-10.333333</td>\n",
       "      <td>-53.200000</td>\n",
       "    </tr>\n",
       "    <tr>\n",
       "      <th>787</th>\n",
       "      <td>-23.316593</td>\n",
       "      <td>-58.169345</td>\n",
       "    </tr>\n",
       "  </tbody>\n",
       "</table>\n",
       "<p>788 rows × 2 columns</p>\n",
       "</div>"
      ]
     },
     "metadata": {},
     "execution_count": 29
    }
   ],
   "metadata": {}
  },
  {
   "cell_type": "code",
   "execution_count": 31,
   "source": [
    "df = df.drop(['location_lat', 'location_lon'], axis=1).reset_index()"
   ],
   "outputs": [],
   "metadata": {}
  },
  {
   "cell_type": "code",
   "execution_count": 35,
   "source": [
    "df.to_feather('dataset.v1.3.feather')"
   ],
   "outputs": [],
   "metadata": {}
  },
  {
   "cell_type": "code",
   "execution_count": 24,
   "source": [
    "df.loc[df['disease'] == 'dengue', ['location_lat', 'location_lon']]"
   ],
   "outputs": [
    {
     "output_type": "execute_result",
     "data": {
      "text/plain": [
       "     location_lat  location_lon\n",
       "0       39.783730   -100.445882\n",
       "1       16.825979    -88.760093\n",
       "2       10.273563    -84.073910\n",
       "3       13.800038    -88.914068\n",
       "4       15.635609    -89.898809\n",
       "..            ...           ...\n",
       "783     -1.339767    -79.366697\n",
       "784     -6.869970    -75.045851\n",
       "785    -34.996496    -64.967282\n",
       "786    -10.333333    -53.200000\n",
       "787    -23.316593    -58.169345\n",
       "\n",
       "[788 rows x 2 columns]"
      ],
      "text/html": [
       "<div>\n",
       "<style scoped>\n",
       "    .dataframe tbody tr th:only-of-type {\n",
       "        vertical-align: middle;\n",
       "    }\n",
       "\n",
       "    .dataframe tbody tr th {\n",
       "        vertical-align: top;\n",
       "    }\n",
       "\n",
       "    .dataframe thead th {\n",
       "        text-align: right;\n",
       "    }\n",
       "</style>\n",
       "<table border=\"1\" class=\"dataframe\">\n",
       "  <thead>\n",
       "    <tr style=\"text-align: right;\">\n",
       "      <th></th>\n",
       "      <th>location_lat</th>\n",
       "      <th>location_lon</th>\n",
       "    </tr>\n",
       "  </thead>\n",
       "  <tbody>\n",
       "    <tr>\n",
       "      <th>0</th>\n",
       "      <td>39.783730</td>\n",
       "      <td>-100.445882</td>\n",
       "    </tr>\n",
       "    <tr>\n",
       "      <th>1</th>\n",
       "      <td>16.825979</td>\n",
       "      <td>-88.760093</td>\n",
       "    </tr>\n",
       "    <tr>\n",
       "      <th>2</th>\n",
       "      <td>10.273563</td>\n",
       "      <td>-84.073910</td>\n",
       "    </tr>\n",
       "    <tr>\n",
       "      <th>3</th>\n",
       "      <td>13.800038</td>\n",
       "      <td>-88.914068</td>\n",
       "    </tr>\n",
       "    <tr>\n",
       "      <th>4</th>\n",
       "      <td>15.635609</td>\n",
       "      <td>-89.898809</td>\n",
       "    </tr>\n",
       "    <tr>\n",
       "      <th>...</th>\n",
       "      <td>...</td>\n",
       "      <td>...</td>\n",
       "    </tr>\n",
       "    <tr>\n",
       "      <th>783</th>\n",
       "      <td>-1.339767</td>\n",
       "      <td>-79.366697</td>\n",
       "    </tr>\n",
       "    <tr>\n",
       "      <th>784</th>\n",
       "      <td>-6.869970</td>\n",
       "      <td>-75.045851</td>\n",
       "    </tr>\n",
       "    <tr>\n",
       "      <th>785</th>\n",
       "      <td>-34.996496</td>\n",
       "      <td>-64.967282</td>\n",
       "    </tr>\n",
       "    <tr>\n",
       "      <th>786</th>\n",
       "      <td>-10.333333</td>\n",
       "      <td>-53.200000</td>\n",
       "    </tr>\n",
       "    <tr>\n",
       "      <th>787</th>\n",
       "      <td>-23.316593</td>\n",
       "      <td>-58.169345</td>\n",
       "    </tr>\n",
       "  </tbody>\n",
       "</table>\n",
       "<p>788 rows × 2 columns</p>\n",
       "</div>"
      ]
     },
     "metadata": {},
     "execution_count": 24
    }
   ],
   "metadata": {}
  },
  {
   "cell_type": "code",
   "execution_count": 19,
   "source": [
    "df.loc[df['disease'] == 'dengue', ['zoom_lat', 'zoom_lon']]"
   ],
   "outputs": [
    {
     "output_type": "execute_result",
     "data": {
      "text/plain": [
       "     zoom_lat  zoom_lon\n",
       "0         NaN       NaN\n",
       "1         NaN       NaN\n",
       "2         NaN       NaN\n",
       "3         NaN       NaN\n",
       "4         NaN       NaN\n",
       "..        ...       ...\n",
       "783       NaN       NaN\n",
       "784       NaN       NaN\n",
       "785       NaN       NaN\n",
       "786       NaN       NaN\n",
       "787       NaN       NaN\n",
       "\n",
       "[788 rows x 2 columns]"
      ],
      "text/html": [
       "<div>\n",
       "<style scoped>\n",
       "    .dataframe tbody tr th:only-of-type {\n",
       "        vertical-align: middle;\n",
       "    }\n",
       "\n",
       "    .dataframe tbody tr th {\n",
       "        vertical-align: top;\n",
       "    }\n",
       "\n",
       "    .dataframe thead th {\n",
       "        text-align: right;\n",
       "    }\n",
       "</style>\n",
       "<table border=\"1\" class=\"dataframe\">\n",
       "  <thead>\n",
       "    <tr style=\"text-align: right;\">\n",
       "      <th></th>\n",
       "      <th>zoom_lat</th>\n",
       "      <th>zoom_lon</th>\n",
       "    </tr>\n",
       "  </thead>\n",
       "  <tbody>\n",
       "    <tr>\n",
       "      <th>0</th>\n",
       "      <td>NaN</td>\n",
       "      <td>NaN</td>\n",
       "    </tr>\n",
       "    <tr>\n",
       "      <th>1</th>\n",
       "      <td>NaN</td>\n",
       "      <td>NaN</td>\n",
       "    </tr>\n",
       "    <tr>\n",
       "      <th>2</th>\n",
       "      <td>NaN</td>\n",
       "      <td>NaN</td>\n",
       "    </tr>\n",
       "    <tr>\n",
       "      <th>3</th>\n",
       "      <td>NaN</td>\n",
       "      <td>NaN</td>\n",
       "    </tr>\n",
       "    <tr>\n",
       "      <th>4</th>\n",
       "      <td>NaN</td>\n",
       "      <td>NaN</td>\n",
       "    </tr>\n",
       "    <tr>\n",
       "      <th>...</th>\n",
       "      <td>...</td>\n",
       "      <td>...</td>\n",
       "    </tr>\n",
       "    <tr>\n",
       "      <th>783</th>\n",
       "      <td>NaN</td>\n",
       "      <td>NaN</td>\n",
       "    </tr>\n",
       "    <tr>\n",
       "      <th>784</th>\n",
       "      <td>NaN</td>\n",
       "      <td>NaN</td>\n",
       "    </tr>\n",
       "    <tr>\n",
       "      <th>785</th>\n",
       "      <td>NaN</td>\n",
       "      <td>NaN</td>\n",
       "    </tr>\n",
       "    <tr>\n",
       "      <th>786</th>\n",
       "      <td>NaN</td>\n",
       "      <td>NaN</td>\n",
       "    </tr>\n",
       "    <tr>\n",
       "      <th>787</th>\n",
       "      <td>NaN</td>\n",
       "      <td>NaN</td>\n",
       "    </tr>\n",
       "  </tbody>\n",
       "</table>\n",
       "<p>788 rows × 2 columns</p>\n",
       "</div>"
      ]
     },
     "metadata": {},
     "execution_count": 19
    }
   ],
   "metadata": {}
  },
  {
   "cell_type": "code",
   "execution_count": 6,
   "source": [
    "df.iloc[1].content"
   ],
   "outputs": [
    {
     "output_type": "execute_result",
     "data": {
      "text/plain": [
       "'DENGUE/DHF UPDATE (01): AMERICAS\\n********************************\\nA ProMED-mail post\\n<http://www.promedmail.org>\\nProMED-mail is a program of the\\nInternational Society for Infectious Diseases\\n<http://www.isid.org>\\n\\nIn this update:\\nCases in various countries\\n- WHO/PAHO countries in the Americas reporting dengue cases\\n- WHO epidemiological update\\n\\nMexico and Central America\\n---\\nMexico\\n- National\\n- Hidalgo state\\n- Jalisco state\\nCosta Rica\\n\\nCaribbean\\n---\\nSt Vincent and the Grenadines\\n\\nSouth America\\n---\\nBrazil\\n- National\\n- Rio de Janeiro state\\n- Ribeirao Preto, Sao Paulo state\\n- Minas Gerais state\\n- West central Minas Gerais state\\n- Cascavel, Parana state\\n- Rio Branco, Arce state\\nColombia\\nParaguay\\nPeru\\n\\n******\\nCases in various countries\\n- WHO/PAHO countries in the Americas reporting dengue cases\\nDate: Sat 2 Jan 2021\\n<http://www.paho.org/data/index.php/en/mnu-topics/indicadores-dengue-en/dengue-nacional-en/252-dengue-pais-ano-en.html>\\n\\n\\nReported cases of dengue fever in the Americas, by country or territory to EW 53 of 2020 [week ending (w/e) 2 Jan 2021]\\n-------------------------------------------------------------\\nCases by Country / Week updated / Serotype / Total / Confirmed / Severe / Deaths\\nNorth America\\nUSA / 53 [w/e 2 Jan 2021] / - / 307 / 307 / 0 / 0\\n\\nCentral America and Mexico\\nBelize / 53 [w/e 2 Jan 2021] / D1,3 / 2779 / 324 / 0 / 0\\nCosta Rica 53 [w/e 2 Jan 2021] / D1,2 / 10 056 / 426 / 21 / 0\\nEl Salvador / 52 [w/e 26 Dec 2020] / D2 / 5450 / - / 9 / 0\\nGuatemala / 46 [w/e 14 Nov 2020] / D1,2,3,4 / 5782 / 786 / 14 / 8\\nHonduras / 53 [w/e 2 Jan 2021] / D1,2 / 26 006 / 75 / 1787 / 10\\nMexico / 53 [w/e 2 Jan 2021] / D1,2,3,4 / 120 639 / 24 313 / 1058 / 79\\nNicaragua / 53 [w/e 2 Jan 2021] / D2 / 53 953 / 1259 / 70 / 1\\nPanama / 53 [w/e 2 Jan 2021] / D1 / 4129 / 19162 / 12 / 6\\n\\nLatin Caribbean\\nCuba / 26 [w/e 27 Jun 2020] / D1,2 / 1418 / 1418 / 1 / 0\\nDominican Republic / 53 [w/e 2 Jan 2021] / D1 / 3964 / 453 / 245 / 36\\nPuerto Rico / 53 [w/e 2 Jan 2021] / - / 558 / 558 / 24 / 0\\n\\nNon-Latin Caribbean\\nAnguilla / 32 [w/e 8 Oct 2020] / D1,3 / 6 / 2 / 0 / 0\\nAntigua and Barbuda / 36 [w/ 5 Sep 2020] / D3 / 409 / 3 / 0 / 0\\nAruba / 48 [w/e 28 Nov 2020] / - / 11 / 4 / 0 / 0\\nBahamas / 24 [w/e 13 Jun 2020] / - / 3 / 0 / 0 / 0\\nBarbados / 48 [w/e 28 Nov 2020] / D3 / 301 / 538 / 5 / 0\\nCayman Islands / [53 [w/e 2 Jan 2021] / D2 /35 / 1 / 0 / 0\\nDominica / 53 [w/e 2 Jan 2021] / D2,3 / 88 / 14 / 1 / 0\\nFrench Guiana / 50 [w/e 12 Dec 2020] / D1,2,3 / 8759 / 4287 / 11 / 4\\nGrenada / 53 [w/e 2 Jan 2021] / D3 / 253 / 171 / 4 / 0\\nGuadeloupe / 53 [w/e 2 Jan 2021] / D1,2,3 / 19 407 / 282 / 3 / 2\\nGuyana / 40 [w/e 13 Jun 2020] / - / 403 / 403 / 0 / 0\\nHaiti / 45 [w/e 7 Nov 2020] / - / 17 / 0 / 0 / 0\\nJamaica / 50 [w/e 12 Dec 2020] / - / 824 / 15 / - / 1\\nMartinique / 53 [w/e 2 Jan 2021] / D1,2,3 / 32 398 / 12 276 / 47 / 17\\nSt Barthelemy 53 [w/e 2 Jan 2021] / D1,2 / 1616 / 889 / 0 / 0\\nSt Kitts and Nevis 53 [w/e 2 Jan 2021] / D3 / 20 / 2 / 0 / 0\\nSt Lucia / 53 [w/e 2 Jan 2021] / D2,3 / 13 181 / 1318 / 0 / 0\\nSt Martin / 53 [w/e 2 Jan 2021] / D1,2,3 / 2736 / 488 / 1 / 1\\nSt Vincent and the Grenadines / 53 [w/e 2 Jan 2021] / D3 / 1790 / 1790 / 8 / 8\\nSint Maarten / 53 [w/e 2 Jan 2021] / - / 9 / 9 / 0 / 0\\nSuriname 53 [w/e 2 Jan 2021] / D2,4 / 563 / 277 / 0 / 0\\nTrinidad and Tobago / 53 [w/e 2 Jan 2021] / - / 59 / 2 / 0 / 0\\nTurks and Caicos / 44 [w/e 31 Oct 2020] / D1 / 142 / 23 / 0 / 0\\nVirgin Islands UK / 44 [w/e 31 Oct 2020] / - / 44 / 44 / 0 / 0\\n\\nAndean Subregion\\nBolivia / 53 [w/e 2 Jan 2021] / D1,2, / 85 326 / 14 605 / 223 / 33\\nColombia / 53 [w/e 2 Jan 2021] / D1,2,3,4 / 78 979 / 17 401 / 897 / 55\\nEcuador / 53 [w/e 2 Jan 2021] / D1,2 / 16 570 / - / 51 / 6\\nPeru / 53 [w/e 2 Jan 2021] / D1,2 / 56 394 / 35 641 / 122 / 88\\nVenezuela / 53 [w/e 2 Jan 2021] / D1,2,3 / 6721 / 304 / 31 / 14\\n\\nSouthern Cone\\nArgentina 48 [w/e 28 Nov 2020] / D1,2,4 / 59 358 / 48 415 / 37 / 19\\nBrazil / 46 [w/e 14 Nov 2020] / D1,2,3,4 / 1 418 296 / 750 181 / 799 / 526\\nChile / 53 [w/e 2 Jan 2021] / D2 / 9 / 9 / 0 / 0\\nParaguay / 53 [w/e 2 Jan 2021] / D1,2,4 / 223 782 / 167 / 75\\n\\nTotals for the Americas / 2 251 689 / 992 847 / 5648 / 991\\n\\n[Maps showing the location of the affected islands and countries in the Americas mentioned above and below can be accessed at\\n<http://healthmap.org/promed/p/35574>;\\nNorth America at <http://healthmap.org/promed/p/106>;\\nCentral America at <http://healthmap.org/promed/p/39455>;\\nCaribbean at <http://www.mapsofworld.com/caribbean-islands>; and\\nSouth America at <http://healthmap.org/promed/p/6186.> - Mod.TY]\\n\\n- WHO epidemiological update\\nDate: Thu 3 Dec 2020\\nSource: PAHO/WHO: Dengue in the context of COVID-19 [edited]\\n<https://www.paho.org/en/documents/epidemiological-update-dengue-context-covid-19-3-december-2020>\\n\\n\\nSituation summary\\n-----------------\\nBetween epidemiological week (EW) 1 [w/e 4 Jan 2020] and EW 47 of 2020 [w/e 21 Nov 2020], 2 163 354 dengue cases were reported in the Region of the Americas (incidence of 221.6 cases per 100 000 population), including 872 deaths. Of these cases, 963 787 (45%) were confirmed by laboratory criteria and 5 197 (0.2%) were classified as severe dengue. The case fatality rate was 0.04%, the lowest recorded in the last 10 years, despite being an epidemiologically complex year for dengue due to the simultaneous pandemic transmission of Coronavirus disease (COVID-19).\\n\\nAlthough the cumulative incidence as of EW 47 of 2020 [w/e 21 Nov 2020] for the Region of the Americas is lower than that reported during the epidemic year 2019, it is higher than the incidence reported for the 2016-2018 period and it is the highest reported since 2015 in 2 sub-regions of the Americas: non-Latin Caribbean and Andean Subregion2. (Figure 1)\\n\\nThis situation occurs in parallel with an intense transmission of SARS-CoV-2. As of EW 47 of 2020 [w/e 21 Nov 2020] in the Region of the Americas, the total accumulated cases of COVID-19 were 24 563 640 (2424 cases per 100 000 population) and 697 740 deaths (case fatality rate of 2.8%).\\n\\nIn the current context of the COVID-19 pandemic, the persistence of higher than expected dengue cases in endemic areas and the beginning of the summer season in the southern hemisphere will represent a significant challenge for the concerned populations and the systems that will need to respond to concomitant public health risk events.\\n\\nFurthermore, recent hurricanes and storms have placed an additional burden on the already overburdened health systems in affected Central American countries and have caused the potential slowdown or postponement of vector control activities.\\n\\nFigure 1: Incidence of dengue cases by 100 000 population as of Epidemiological Week (EW) 47 [w/e 21 Nov 2020] by year of report and subregion. Region of the Americas, 2015-2020.\\n\\nAs of EW 47 of 2020 [w/e 21 Nov 2020], 6 of the 10 countries and territories with the highest cumulative incidence of dengue cases correspond to the Non-Latin Caribbean: Saint Barthelemy (15 978 cases per 100 000 population), Saint Martin (7875/100 000), Martinique (7706/100 000), Guadeloupe (3494/100 000), French Guiana (2843/100 000), and Saint Vincent and the Grenadines (1050/100 000).\\n\\nIn the Southern Cone, as of EW 47 of 2020 [w/e 21 Nov 2020], countries with the highest cumulative incidence were Paraguay (3212 cases per 100 000 population), a country that was affected with the largest dengue epidemic in its history, and Brazil (661/100 000), where the number of cases had a decreasing trend since EW 11 of 2020 [w/e 14 Mar 2020]; in the Andean subregion, Bolivia (750/100 000), where cases decreased since EW 9 [w/e 29 Feb 2020] and, in the Central American isthmus, Nicaragua (709/100 000), with a slight upward trend since EW 25 of 2020 [w/e 20 Jun 2020].\\n\\nSituation by subregion\\n----------------------\\n- Non-Latin Caribbean\\nCurrently, the Non-Latin Caribbean subregion is experiencing an active dengue outbreak, with co-circulation of SARS-CoV-2. Dengue cases reported between EW 1 [w/e 4 Jan 2020] and EW 47 of 2020 [w/e 21 Nov 2020] have remained above what was reported for the same period in 2019. In 2020, as of EW 47, 62 620 dengue cases (incidence of 315.4 cases per 100 000 population), including 20 deaths, were reported, with a case fatality rate of 0.03%. In contrast, in 2019, 10 222 dengue cases (51.5 cases per 100 000 population), including 15 deaths, were reported for the same period.\\n\\nThe countries and territories that present dengue cases above the historical trend since 2015 and that have active outbreaks reported in the 3-week period of EW 43 [w/e 24 Oct 2020] to EW 45 of 2020 [w/e 7 Nov 2020] are Martinique (with an average of 1058 cases per week), Guadeloupe (with an average of 990 cases per week), French Guiana (with an average of 87 cases per week), and Saint Barthelemy (with an average of 32 cases per week).\\n\\nWith regard to the COVID-19 pandemic, a 1st wave among these countries and territories started in EW 20 of 2020 [w/e 16 May 2020] and a 2nd one started in EW 31 [w/e 1 Aug 2020], coinciding with an increase in notifications of dengue cases (Figure 2). Of the 6 countries and territories with the highest dengue incidences, French Guiana, Guadeloupe, Martinique, and Saint Martin also report community transmission of COVID-19, while Saint Barthelemy and Saint Vincent and the Grenadines report sporadic cases of COVID-19.\\n\\nDue to this situation, there has been substantial technical cooperation over the last 3 months in this subregion, prioritizing patient management as a method to prevent severe cases and deaths, and the case fatality rate of 0.03% has been maintained.\\n\\nFigure 2: Distribution of dengue and COVID-19 cases by epidemiological week (EW). Non-Latin Caribbean, EW 1 to 47 of 2019 and 2020.\\n\\n- Andean Subregion\\nBetween EW 1 [w/e 4 Jan 2020] and EW 47 of 2020 [w/e 21 Nov 2020], 226 970 cases of dengue (incidence of 159.3 cases per 100 000 population), including 153 deaths were reported in the Andean Subregion. The case fatality rate was 0.07%.\\n\\nThis subregion reported the highest number of reported dengue cases between EW 1 [w/e 4 Jan 2020] and EW 17 of 2020 [w/e 25 Apr 2020]. The number of reported cases peaked in EW 7 of 2020 [w/e 15 Feb 2020] and began to decrease steadily from EW 10 [w/e 7 Mar 2020], coinciding with the increase of COVID-19 cases. From EW 20 [w/e 16 May 2020] to EW 47 [w/e 21 Nov 2020], the number of cases registered per week remained below those reported in 2019. In this subregion, the number of COVID-19 cases reached a peak in EW 34 of 2020 [w/e 22 Aug 2020]. (Figure 3)\\n\\nBolivia reported an unusual increase in dengue cases since EW 2 of 2020 [w/e 11 Jan 2020] that peaked in EW 7 [w/e 15 Feb 2020], with 8976 cases reported weekly. After EW 8 [w/e 22 Feb 2020], cases began to decline, and as of EW 25 [w/e 20 Jun 2020] there continued to be less than 100 cases reported per week.\\n\\nIn the 3-week period of EW 45 [w/e 7 Nov 2020] to EW 47 [w/e 21 Nov 2020], Colombia maintained an average of 623 reported cases per week, the lowest average since EW 18 of 2018 [w/e 5 May 2018] and after 2 years with high-intensity circulation, having reached a peak in EW 3 of 2020 [w/e 18 Jan 2020] with 4947 weekly cases reported.\\n\\nFigure 3: Distribution of dengue and COVID-19 cases by epidemiological week (EW). Andean Subregion, EW 1 to 47 of 2019 and 2020.\\n\\n- Southern Cone\\nBetween EW 1 [w/e 4 Jan 2020] and EW 47 of 2020 [w/e 21 Nov 2020], 1 661 700 cases of dengue (incidence of 589.8 cases per 100 000 population), including 591 deaths, were reported in the Southern Cone. The case fatality rate was 0.04%.\\n\\nThis subregion reported a sustained increase in the number of dengue cases between EW 1 [w/e 4 Jan 2020] and EW 11 of 2020 [w/e 14 Mar 2020], followed by the reported weekly average falling to almost half since EW 12 [w/e 21 Mar 2020]; this coincides with the start of the COVID-19 pandemic and measures restricting mobility applied by countries to contain the pandemic. Since EW 17 of 2020 [w/e 25 Apr 2020], there has been a sustained decrease in the number of notifications of dengue cases.\\n\\nIn this subregion, the number of accumulated dengue cases and the cumulative incidence as of EW 47 [w/e 21 Nov 2020], did not reach the epidemic figures reported in 2019, even with the outbreak reported in the 1st quarter of 2020. In 2019, there were 2 203 396 cases reported during the same period, with an incidence of 782 cases per 100 000 population. (Figure 4)\\n\\nNotably, Paraguay reported a historical peak of suspected dengue cases with 33 468 cases in EW 6 of 2020 [w/e 8 Feb 2020]; in addition, in the same week, the highest peak of confirmed dengue cases was reported with 9350 cases. Since EW 12 [w/e/ 21 Mar 2020], the number of dengue cases per week has dropped to less than 1000 cases weekly. In the 3-week period of EW 45 [w/e 7 Nov 2020] to EW 47 [w/e 21 Nov 2020], the weekly average of notifications of suspected cases was 183. As of EW 47 of 2020, a total of 61 573 cases (confirmed and probable) were reported with an incidence rate of 849 cases per 100 000 population.\\n\\nFigure 4: Distribution of dengue and COVID-19 cases by epidemiological week (EW). Southern Cone, EW 1 to 47 of 2019 and 2020.\\n\\n- Latin Caribbean\\nBetween EW 1 [w/e 4 Jan 2020] and EW 47 of 2020 [w/e 21 Nov 2020], 5592 dengue cases (incidence of 21.5 cases per 100 000 population), including 35 deaths, were reported in the Latin Caribbean subregion. The case fatality rate (0.63%) is the highest in the region of the Americas, with the Dominican Republic being the country that reports all of the deaths for this subregion. With respect to COVID-19, since EW 12 of 2020 [w/e 21 Mar 2020], there has been an increase in the number of reported cases, with a peak in EW 31 of 2020 [w/e 1 Aug 2020]. (Figure 5)\\n\\nIn this subregion, as of EW 47 of 2019 [w/e 21 Nov 2019], 20 896 dengue cases (incidence of 80.3 cases per 100 000 population), including 47 deaths, were reported, with a case fatality rate of 0.23%.\\n\\nFigure 5: Distribution of dengue and COVID-19 cases by epidemiological week (EW). Latin Caribbean, EW 1 to 47 of 2019 and 2020.\\n\\n- Central American Isthmus and Mexico\\nBetween EW 45 [w/e 7 Nov 2020] and EW 47 of 2020 [w/e 21 Nov 2020], 2 successive hurricanes affected the Central American Isthmus, mainly Guatemala, Honduras, and Nicaragua, causing floods, landslides, and damage to infrastructure, homes, and services. The consequent high demand in health and social services increases the risk of disease transmission, as well as makes epidemiological surveillance and vector control difficult.\\n\\nBetween EW 1 [w/e 4 Jan 2020] and EW 47 of 2020 [w/e 21 Nov 2020], 206 211 dengue cases (incidence of 115 cases per 100 000 population), including 73 deaths, were reported in the Central American Isthmus and Mexico. The case fatality rate was 0.04%.\\n\\nThe number of reported dengue cases has remained stable as of EW 47 of 2020 [w/e 21 Nov 2020] and below that reported for the same period in 2019, when 623 980 cases (incidence of 347.9 cases per 100 000 population), including 415 deaths, were reported. Dengue cases are being reported simultaneously to the appearance and increase of COVID-19 cases, which had peaks in EW 30 [w/e 25 Jul 2020] and EW 41 [w/e 10 Oct 2020], followed by another peak in COVID-19 cases in EW 48 of 2020 [w/e 28 Nov 2020]. (Figure 6)\\n\\nAs of EW 45 of 2020 [w/e 7 Nov 2020], Costa Rica had reported 9556 cases of dengue and zero deaths. An increase in dengue cases had been reported between EW 19 [w/e 9 May 2020] and EW 32 [w/e 8 Aug 2020], reaching a peak of 451 weekly cases in EW 27 [w/e 4 Jul 2020], and then decreasing in the following weeks.\\n\\nIn the 3-week period of EW 45 [w/e 7 Nov 2020] to EW 47 [w/e 21 Nov 2020], 2 countries had reported sustained circulation: Mexico and Nicaragua. Mexico reported an average of 3858 cases per week, similar to the trend reported between 2016 and 2018, but lower than the 2019 epidemic year, when an average of 10 040 cases were reported per week. Nicaragua reported an average of 1130 cases per week, below its epidemic threshold.\\n\\nFigure 6: Distribution of dengue and COVID-19 cases by epidemiological week (EW). Central American Isthmus and Mexico, EW 1 to 48 of 2019 and 2020.\\n\\nAdvice to member states\\n-----------------------\\nGiven the coexistence of COVID-19 with dengue and other arboviruses in several countries and territories of the Region of the Americas, the Pan American Health Organization/World Health Organization (PAHO/WHO) urges member states to continue strengthening surveillance, diagnosis, triage, and adequate treatment of dengue in the context of COVID- 19, while establishing strategies to facilitate access to health services for patients with dengue and other arboviruses. PAHO/WHO recommends the adequate triage of patients both for the timely detection of dengue warning signs and to reduce the risk of SARS-CoV-2 infections acquired in health care services.\\n\\nPAHO/WHO reminds member states of the guidelines published in the 10 Jun 2020 PAHO/WHO epidemiological update on dengue and other arboviruses, available at <https://bit.ly/3mM1H36>; as well as those related to COVID-19 published in the 9 Nov 2020 PAHO/WHO Epidemiological Update, available at <https://bit.ly/3g4vK3S>.\\n\\n--\\ncommunicated by:\\nProMED rapporteur Marianne Hopp\\n\\n[Maps showing the location of the affected islands and countries in the Americas mentioned above and below can be accessed at\\n<http://healthmap.org/promed/p/35574>;\\nNorth America at <http://healthmap.org/promed/p/106>;\\nCentral America at <http://healthmap.org/promed/p/39455>;\\nCaribbean at <http://www.mapsofworld.com/caribbean-islands>; and\\nSouth America at <http://healthmap.org/promed/p/6186>. - Mod.TY]\\n\\nCases in various countries not mentioned above or more recent case numbers:\\nMexico and Central America\\n---\\nMexico\\n- National. 22 Jan 2021. (reported) for 2020, 120 239 cases.\\n<http://outbreaknewstoday.com/brazil-paraguay-mexico-vietnam-and-malaysia-report-the-most-dengue-cases-in-2020/>\\n\\n- Hidalgo state. 19 Dec 2020. (registered) 764 cases; DHF/serious 4 cases.\\n<https://www.milenio.com/ciencia-y-salud/dengue-hidalgo-entidad-registra-764-casos> [in Spanish]\\n\\n- Jalisco state. 10 Jan 2021. (probable) 23 166 cases, (confirmed) 5362 cases; deaths (confirmed) 20, under investigation 18 cases. Municipalities most affected: Tlaquepaque 653 cases, Guadalajara 483, Zapopan 367, Jocotepec 313, and Tlajomulco 294.\\n<https://www.vallartadaily.com/jalisco-leads-the-country-in-dengue-cases/>\\n\\nCosta Rica. 21Nov 2020. (registered) 9438 cases. Localities most affected: Huetar Caribe 4353 cases and La Brunca 2228 cases.\\n<https://qcostarica.com/dengue-cases-in-2020-already-exceed-all-cases-in-2019/>\\n\\nCaribbean\\n---\\nSt Vincent and the Grenadines. 24 Nov 2020. (confirmed) 1617 cases; deaths 7.\\n<http://jamaica-gleaner.com/article/caribbean/20201124/child-dies-st-vincent-dengue-fever>\\n\\nSouth America\\n---\\nBrazil\\n- National. 22 Jan 2021. (reported) for 2020, 1 418 296 cases.\\n<http://outbreaknewstoday.com/brazil-paraguay-mexico-vietnam-and-malaysia-report-the-most-dengue-cases-in-2020/>\\n\\n- Rio de Janeiro state. 27 Nov 2020. (reported) 31 210 cases, significant drop in cases.\\n<http://outbreaknewstoday.com/brazil-dengue-cases-in-rio-de-janeiro-state-decrease-significantly-in-2020/>\\n\\n- Ribeirao Preto, Sao Paulo state. 22 Nov 2020. (registered) 17 538 cases to October 2020, more than the 14 421 cases last year (2019).\\n<http://outbreaknewstoday.com/brazil-ribeirao-preto-dengue-cases-top-17k-exceeds-all-of-2019/>\\n\\n- Minas Gerais state. 23 Dec 2020. (suspected) 26 526 cases (confirmed) 57 861 cases; deaths (confirmed) 12 (under investigation) 57.\\n<https://andradas.portaldacidade.com/noticias/saude/andradas-tem-mais-tres-casos-suspeitos-de-dengue-registrados-pela-ses-0628> [in Portuguese]\\n\\n- West central Minas Gerais state. 31 Dec 2020. (confirmed) 10 390 cases. Municipalities most affected: Minas Gerais 3636 cases, Bom Despacho 784 cases.\\n<https://g1.globo.com/mg/centro-oeste/noticia/2020/12/31/mais-de-10-mil-casos-provaveis-de-dengue-foram-registrados-em-2020-no-centro-oeste-de-mg-segundo-boletim-do-estado.ghtml> [in Portuguese]\\n\\n- Cascavel, Parana state. 29 Dec 2020. (reported) 72 cases.\\n<https://cgn.inf.br/noticia/320696/casos-de-dengue-aumentam-em-cascavel> [in Portuguese]\\n\\n- Rio Branco, Arce state. 2 Feb 2021. (reported) 1492 cases. Health emergency decreed; DHF/serious 6 cases, deaths 2.\\n<http://outbreaknewstoday.com/brazil-mayor-of-rio-branco-issues-emergency-declaration-over-dengue-fever-26685/>\\n\\nColombia. 21 Dec 2020. (reported) as of week 50 [w/e 12 Dec 2020], deaths (probable) 179. Based historically, departments with the expected number of cases: Amazonas, Atlantico, Barranquilla, Arauca, Bolivar, Casanare, Caqueta, Caldas, Cordoba, Guainia, Cesar, Huila, La Guajira, Guaviare, San Andres, Providencia, and Santa Catalina, Quindio, Risaralda, Norte de Santander, Santander, Meta, Magdalena, Sucre, Narino, and Tolima. Departments with a greater number of cases than expected: Cauca, Choco, Cartagena, and Putumayo; Santa Marta municipality 388 cases with 35 DHF/serious cases and 3 deaths; Magdalena department 603 cases with 16 DHF/serious cases and 2 deaths.\\n<https://www.opinioncaribe.com/2020/12/21/alerta-por-388-casos-de-dengue-en-santa-marta/> [in Spanish]\\n\\nParaguay. 22 Jan 2021. (reported) for 2020, 223 082 cases.\\n<http://outbreaknewstoday.com/brazil-paraguay-mexico-vietnam-and-malaysia-report-the-most-dengue-cases-in-2020/>\\n\\nPeru. 15 Jan 2021. (reported) 56 394 cases in 2020 the worst outbreak since 2017; deaths 88.\\n<http://outbreaknewstoday.com/peru-reports-worst-dengue-epidemic-since-2017/>\\n\\n--\\ncommunicated by:\\nProMED from HealthMap Alerts\\n<promed@promedmail.org>\\n\\n[See Also:\\n2020\\n---\\nDengue/DHF update (12): Americas 20201115.7945357\\nDengue/DHF update (10): Americas 20200901.7737065\\nDengue/DHF update (09): Americas 20200811.7664969\\nDengue/DHF update (07): Americas 20200618.7482266\\nDengue/DHF update (05): Americas 20200429.7278906\\nDengue/DHF update (04): Americas 20200330.7159571\\nDengue/DHF update (03): Americas 20200307.7058361\\nDengue/DHF update (01): Americas 20200114.6889091]\\n.................................................sb/lm/ml/jh/mpp/sh/ty/mj/sh'"
      ]
     },
     "metadata": {},
     "execution_count": 6
    }
   ],
   "metadata": {}
  },
  {
   "cell_type": "code",
   "execution_count": null,
   "source": [],
   "outputs": [],
   "metadata": {}
  }
 ],
 "metadata": {
  "orig_nbformat": 4,
  "language_info": {
   "name": "python",
   "version": "3.9.6",
   "mimetype": "text/x-python",
   "codemirror_mode": {
    "name": "ipython",
    "version": 3
   },
   "pygments_lexer": "ipython3",
   "nbconvert_exporter": "python",
   "file_extension": ".py"
  },
  "kernelspec": {
   "name": "python3",
   "display_name": "Python 3.9.6 64-bit ('geopandas': conda)"
  },
  "interpreter": {
   "hash": "3387528f949e08a7465409a492fe128ebdb03217a22eb98a1ae9d56d862b3753"
  }
 },
 "nbformat": 4,
 "nbformat_minor": 2
}