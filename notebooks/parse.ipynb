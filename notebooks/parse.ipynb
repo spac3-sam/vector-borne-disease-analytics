{
 "metadata": {
  "language_info": {
   "codemirror_mode": {
    "name": "ipython",
    "version": 3
   },
   "file_extension": ".py",
   "mimetype": "text/x-python",
   "name": "python",
   "nbconvert_exporter": "python",
   "pygments_lexer": "ipython3",
   "version": "3.8.8"
  },
  "orig_nbformat": 2,
  "kernelspec": {
   "name": "python388jvsc74a57bd0302a19afe56b3dec20ddeaa19c5ad6f412e1d2d164f1fa0dd3593324152ee20d",
   "display_name": "Python 3.8.8 64-bit ('data_analytics': conda)"
  }
 },
 "nbformat": 4,
 "nbformat_minor": 2,
 "cells": [
  {
   "cell_type": "code",
   "execution_count": 2,
   "metadata": {},
   "outputs": [],
   "source": [
    "DATASET_PATH = '../data/promed_dengue.csv'"
   ]
  },
  {
   "cell_type": "code",
   "execution_count": 3,
   "metadata": {},
   "outputs": [],
   "source": [
    "import pandas as pd\n",
    "import re\n",
    "from tqdm import tqdm\n",
    "tqdm.pandas()"
   ]
  },
  {
   "cell_type": "code",
   "execution_count": 4,
   "metadata": {},
   "outputs": [],
   "source": [
    "sys.path.append('../Epitator')"
   ]
  },
  {
   "cell_type": "code",
   "execution_count": 5,
   "metadata": {},
   "outputs": [],
   "source": [
    "from epitator.annotator import AnnoDoc\n",
    "from epitator.count_annotator import CountAnnotator\n",
    "from epitator.date_annotator import DateAnnotator\n",
    "from epitator.geoname_annotator import GeonameAnnotator"
   ]
  },
  {
   "cell_type": "code",
   "execution_count": 1,
   "metadata": {},
   "outputs": [],
   "source": [
    "from transformers import BartForConditionalGeneration, BartTokenizer\n",
    "from typing import List\n",
    "\n",
    "# setup our BART transformer summarization model\n",
    "tokenizer = BartTokenizer.from_pretrained('facebook/bart-large-cnn')\n",
    "model = BartForConditionalGeneration.from_pretrained('facebook/bart-large-cnn').cuda()"
   ]
  },
  {
   "cell_type": "code",
   "execution_count": 6,
   "metadata": {},
   "outputs": [],
   "source": [
    "# helper function to summarize an input text with the BART model\n",
    "def summarizer(text: str) -> str:\n",
    "    input_ids = tokenizer(text, return_tensors='pt', max_length=1024, padding=True, truncation=True)['input_ids']\n",
    "    summary_ids = model.generate(input_ids.cuda())\n",
    "    summary = ''.join([tokenizer.decode(s) for s in summary_ids])\n",
    "    summary = summary.replace('<s>', '').replace('</s>', '')\n",
    "    return summary"
   ]
  },
  {
   "cell_type": "code",
   "execution_count": 7,
   "metadata": {},
   "outputs": [],
   "source": [
    "# helper function to strip html tags from a string (needed for better accuracy)\n",
    "def clean_html(raw_html: str, strip=True) -> str:\n",
    "  cleanr = re.compile('<.*?>|&([a-z0-9]+|#[0-9]{1,6}|#x[0-9a-f]{1,6});')\n",
    "  clean = re.sub(cleanr, '', raw_html)\n",
    "  if strip:\n",
    "    clean = re.sub(r'\\W+', ' ', clean)\n",
    "  return clean"
   ]
  },
  {
   "cell_type": "code",
   "execution_count": 8,
   "metadata": {},
   "outputs": [],
   "source": [
    "# helper function to extract the date the article was published from the header/title\n",
    "def extract_publish_date(text: str) -> str:\n",
    "    return re.search(r'[0-9]{4}-(0[1-9]|1[0-2])-(0[1-9]|[1-2][0-9]|3[0-1])', text)[0]"
   ]
  },
  {
   "cell_type": "code",
   "execution_count": 9,
   "metadata": {},
   "outputs": [],
   "source": [
    "DISEASES = [\n",
    "    'Chagas disease',\n",
    "    'Chikungunya',\n",
    "    'Congo-Crimean haemorrhagic fever',\n",
    "    'Dengue',\n",
    "    'Dracunculiasis',\n",
    "    'guinea-worm disease'\n",
    "    'Human African trypanosomiasis',\n",
    "    'Leishmaniasis',\n",
    "    'Lymphatic filariasis',\n",
    "    'Lyme disease',\n",
    "    'Malaria',\n",
    "    'Onchocerciasis',\n",
    "    'Schistosomiasis',\n",
    "    'Yellow fever',\n",
    "]\n",
    "# helper function to extract type of vector-borne disease from data\n",
    "def extract_disease(txt: str) -> str:\n",
    "    txt = txt.lower()\n",
    "    for d in DISEASES:\n",
    "        if d.lower() in txt:\n",
    "            return d\n",
    "\n",
    "    return 'Not found'"
   ]
  },
  {
   "cell_type": "code",
   "execution_count": 10,
   "metadata": {},
   "outputs": [],
   "source": [
    "# function that extracts location names/admin codes/lat/lng, case and death counts, and date ranges from the input string\n",
    "# uses epitator since it already trained rules for extracting medical/infectious disease data\n",
    "def epitator_extract(txt, max_ents=1):\n",
    "    # input string and add annotators\n",
    "    doc = AnnoDoc(txt)\n",
    "    doc.add_tiers(GeonameAnnotator())\n",
    "    doc.add_tiers(CountAnnotator())\n",
    "    doc.add_tiers(DateAnnotator())\n",
    "\n",
    "    # extract geographic data\n",
    "    geos = doc.tiers[\"geonames\"].spans\n",
    "    geo_admin1s = [x.geoname.admin1_code for x in geos]\n",
    "    geo_admin2s = [x.geoname.admin2_code for x in geos]\n",
    "    geo_admin3s = [x.geoname.admin3_code for x in geos]\n",
    "    geo_admin4s = [x.geoname.admin4_code for x in geos]\n",
    "    geo_names = [x.geoname.name for x in geos]\n",
    "    geo_lats = [x.geoname.latitude for x in geos]\n",
    "    geo_lons = [x.geoname.longitude for x in geos]\n",
    "\n",
    "    # extract case counts and death counts\n",
    "    counts = doc.tiers[\"counts\"].spans\n",
    "    cases_counts = [x.metadata['count'] for x in counts if 'case' in x.metadata['attributes'] and 'death' not in x.metadata['attributes']]\n",
    "    cases_tags = [x.metadata['attributes'] for x in counts if 'case' in x.metadata['attributes'] and 'death' not in x.metadata['attributes']]\n",
    "    death_counts = [x.metadata['count'] for x in counts if 'death' in x.metadata['attributes']]\n",
    "    death_tags = [x.metadata['attributes'] for x in counts if 'death' in x.metadata['attributes']]\n",
    "\n",
    "    # extract the date range\n",
    "    dates = doc.tiers[\"dates\"].spans\n",
    "    dates_start = [pd.to_datetime(x.metadata[\"datetime_range\"][0], errors='coerce') for x in dates]\n",
    "    dates_end = [pd.to_datetime(x.metadata[\"datetime_range\"][1], errors='coerce') for x in dates]\n",
    "\n",
    "    # return only max_ents entities from the extracted lists\n",
    "    # currently set to the first result for each list, since that is usually the most important one\n",
    "    # and other ones can be filler/garbage data\n",
    "    return pd.Series([ \n",
    "        geo_admin1s[:max_ents],\n",
    "        geo_admin2s[:max_ents],\n",
    "        geo_admin3s[:max_ents],\n",
    "        geo_admin4s[:max_ents],\n",
    "        geo_names[:max_ents],\n",
    "        geo_lats[:max_ents],\n",
    "        geo_lons[:max_ents],\n",
    "        cases_counts[:max_ents],\n",
    "        cases_tags[:max_ents],\n",
    "        death_counts[:max_ents],\n",
    "        death_tags[:max_ents],\n",
    "        dates_start[:max_ents],\n",
    "        dates_end[:max_ents],\n",
    "    ])"
   ]
  },
  {
   "cell_type": "code",
   "execution_count": 11,
   "metadata": {},
   "outputs": [
    {
     "output_type": "stream",
     "name": "stdout",
     "text": [
      "1414\n"
     ]
    },
    {
     "output_type": "execute_result",
     "data": {
      "text/plain": [
       "        id                                             header  \\\n",
       "0  8322075  <span class=\"blue\">Published Date:</span> 2021...   \n",
       "1  8163513  <span class=\"blue\">Published Date:</span> 2021...   \n",
       "2  8094266  <span class=\"blue\">Published Date:</span> 2021...   \n",
       "3  7961056  <span class=\"blue\">Published Date:</span> 2020...   \n",
       "4  7945357  <span class=\"blue\">Published Date:</span> 2020...   \n",
       "\n",
       "                                                body  \n",
       "0  DENGUE/DHF UPDATE (02): AMERICAS<br>**********...  \n",
       "1  DENGUE/DHF UPDATE (01): AMERICAS<br>**********...  \n",
       "2  CORONAVIRUS DISEASE 2019 UPDATE (14): IMMUNE R...  \n",
       "3  DENGUE/DHF UPDATE (13): ASIA, EUROPE, AFRICA, ...  \n",
       "4  DENGUE/DHF UPDATE (12): AMERICAS<br>**********...  "
      ],
      "text/html": "<div>\n<style scoped>\n    .dataframe tbody tr th:only-of-type {\n        vertical-align: middle;\n    }\n\n    .dataframe tbody tr th {\n        vertical-align: top;\n    }\n\n    .dataframe thead th {\n        text-align: right;\n    }\n</style>\n<table border=\"1\" class=\"dataframe\">\n  <thead>\n    <tr style=\"text-align: right;\">\n      <th></th>\n      <th>id</th>\n      <th>header</th>\n      <th>body</th>\n    </tr>\n  </thead>\n  <tbody>\n    <tr>\n      <th>0</th>\n      <td>8322075</td>\n      <td>&lt;span class=\"blue\"&gt;Published Date:&lt;/span&gt; 2021...</td>\n      <td>DENGUE/DHF UPDATE (02): AMERICAS&lt;br&gt;**********...</td>\n    </tr>\n    <tr>\n      <th>1</th>\n      <td>8163513</td>\n      <td>&lt;span class=\"blue\"&gt;Published Date:&lt;/span&gt; 2021...</td>\n      <td>DENGUE/DHF UPDATE (01): AMERICAS&lt;br&gt;**********...</td>\n    </tr>\n    <tr>\n      <th>2</th>\n      <td>8094266</td>\n      <td>&lt;span class=\"blue\"&gt;Published Date:&lt;/span&gt; 2021...</td>\n      <td>CORONAVIRUS DISEASE 2019 UPDATE (14): IMMUNE R...</td>\n    </tr>\n    <tr>\n      <th>3</th>\n      <td>7961056</td>\n      <td>&lt;span class=\"blue\"&gt;Published Date:&lt;/span&gt; 2020...</td>\n      <td>DENGUE/DHF UPDATE (13): ASIA, EUROPE, AFRICA, ...</td>\n    </tr>\n    <tr>\n      <th>4</th>\n      <td>7945357</td>\n      <td>&lt;span class=\"blue\"&gt;Published Date:&lt;/span&gt; 2020...</td>\n      <td>DENGUE/DHF UPDATE (12): AMERICAS&lt;br&gt;**********...</td>\n    </tr>\n  </tbody>\n</table>\n</div>"
     },
     "metadata": {},
     "execution_count": 11
    }
   ],
   "source": [
    "df = pd.read_csv(DATASET_PATH)\n",
    "print(len(df))\n",
    "df.head()"
   ]
  },
  {
   "cell_type": "code",
   "execution_count": 12,
   "metadata": {},
   "outputs": [
    {
     "output_type": "stream",
     "name": "stderr",
     "text": [
      "C:\\Users\\ethan\\AppData\\Roaming\\Python\\Python38\\site-packages\\transformers\\generation_utils.py:963: UserWarning: `max_length` is deprecated in this function, use `stopping_criteria=StoppingCriteriaList(MaxLengthCriteria(max_length=max_length))` instead.\n",
      "  warnings.warn(\n",
      "Bad date range split: 1908 1926 and 1943 to 1944 ['1908 1926 ', ' 1943 ', ' 1944']\n",
      "Bad date range split: 1908 1926 and 1943 to 1944 ['1908 1926 ', ' 1943 ', ' 1944']\n"
     ]
    }
   ],
   "source": [
    "df['publish_date'] = df['header'].progress_apply(extract_publish_date) # add date column\n",
    "df['header'] = df['header'].progress_apply(clean_html)\n",
    "df['body'] = df['body'].progress_apply(clean_html)\n",
    "df['summary'] = df['body'].progress_apply(summarizer)\n",
    "df['disease'] = df['body'].progress_apply(extract_disease)\n",
    "df[['admin1_code',\n",
    "'admin2_code',\n",
    "'admin3_code',\n",
    "'admin4_code',\n",
    "'location_name',\n",
    "'location_lat',\n",
    "'location_lon',\n",
    "'cases',\n",
    "'cases_tags',\n",
    "'deaths',\n",
    "'deaths_tags',\n",
    "'dates_start',\n",
    "'dates_end',]] = df['summary'].progress_apply(epitator_extract)\n",
    "df = df.applymap(lambda x: x[0] if isinstance(x, list) and len(x) > 0 else x)\n",
    "df = df.applymap(lambda y: pd.NA if isinstance(y, (list, str)) and len(y) == 0 else y)"
   ]
  },
  {
   "cell_type": "code",
   "execution_count": 24,
   "metadata": {},
   "outputs": [
    {
     "output_type": "execute_result",
     "data": {
      "text/plain": [
       "id                                                         8163513\n",
       "header           Published Date 2021 02 04 06 39 21Subject PRO ...\n",
       "body             DENGUE DHF UPDATE 01 AMERICAS A ProMED mail po...\n",
       "publish_date                                            2021-02-04\n",
       "summary          Dengue fever in the Americas by country or ter...\n",
       "disease                                                     Dengue\n",
       "admin1_code                                                     00\n",
       "admin2_code                                                   <NA>\n",
       "admin3_code                                                   <NA>\n",
       "admin4_code                                                   <NA>\n",
       "location_name                                        United States\n",
       "location_lat                                                 39.76\n",
       "location_lon                                                 -98.5\n",
       "cases                                                           53\n",
       "cases_tags                                                  [case]\n",
       "deaths                                                        <NA>\n",
       "deaths_tags                                                   <NA>\n",
       "dates_start                                    2021-01-02 00:00:00\n",
       "dates_end                                      2021-01-03 00:00:00\n",
       "Name: 1, dtype: object"
      ]
     },
     "metadata": {},
     "execution_count": 24
    }
   ],
   "source": [
    "df.iloc[1]"
   ]
  },
  {
   "cell_type": "code",
   "execution_count": 14,
   "metadata": {},
   "outputs": [],
   "source": [
    "df.to_csv(DATASET_PATH[:-4]+'_parsed.csv')"
   ]
  },
  {
   "cell_type": "code",
   "execution_count": null,
   "metadata": {},
   "outputs": [],
   "source": []
  }
 ]
}