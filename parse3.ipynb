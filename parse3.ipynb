{
 "cells": [
  {
   "cell_type": "code",
   "execution_count": 1,
   "source": [
    "import pandas as pd\r\n",
    "from tqdm import tqdm\r\n",
    "tqdm.pandas()"
   ],
   "outputs": [],
   "metadata": {}
  },
  {
   "cell_type": "code",
   "execution_count": 87,
   "source": [
    "import re\r\n",
    "from datetime import datetime\r\n",
    "from geopy import Nominatim\r\n",
    "from geopy.extra.rate_limiter import RateLimiter"
   ],
   "outputs": [],
   "metadata": {}
  },
  {
   "cell_type": "code",
   "execution_count": 88,
   "source": [
    "locator = Nominatim(user_agent=\"ppcoom\")\r\n",
    "geocode = RateLimiter(locator.geocode, min_delay_seconds=1/20)\r\n",
    "dengue_regex = re.compile(r'([A-Za-z ]+).*\\[w\\/e (.+)\\] \\/ (.+) \\/ (.+) \\/ (.+) \\/ (.+) \\/ (.+)', re.MULTILINE)"
   ],
   "outputs": [],
   "metadata": {}
  },
  {
   "cell_type": "code",
   "execution_count": 4,
   "source": [
    "df = pd.read_feather('combined_df_anomaly.feather')"
   ],
   "outputs": [],
   "metadata": {}
  },
  {
   "cell_type": "code",
   "execution_count": 181,
   "source": [
    "dengue_df = df[df['disease'] == 'dengue']"
   ],
   "outputs": [],
   "metadata": {}
  },
  {
   "cell_type": "code",
   "execution_count": 183,
   "source": [
    "def parse_dengue(row):\r\n",
    "    return pd.DataFrame([(\r\n",
    "        *row[2:],\r\n",
    "        match[0].strip(),\r\n",
    "        pd.NA if re.match(r'\\d+ \\w{3} \\w{4}', re.sub(r'[^\\w ]+', '', match[1])) is None \r\n",
    "            else datetime.strptime(re.sub(r'[^\\w ]+', '', match[1]), r'%d %b %Y'),\r\n",
    "        match[2],\r\n",
    "        *[pd.NA if not match[i].replace(' ', '').isnumeric() else int(match[i].replace(' ', '')) for i in range(3, 7)])\r\n",
    "        for match in dengue_regex.findall(row['content'])],\r\n",
    "        columns=[\r\n",
    "        *row[2:].keys(),\r\n",
    "        'location_name',\r\n",
    "        'dates_start',\r\n",
    "        'serotype',\r\n",
    "        'total_cases',\r\n",
    "        'confirmed_cases',\r\n",
    "        'severe_cases',\r\n",
    "        'deaths'\r\n",
    "    ])\r\n"
   ],
   "outputs": [],
   "metadata": {}
  },
  {
   "cell_type": "code",
   "execution_count": 184,
   "source": [
    "dengue_df_parse = pd.concat([parse_dengue(row) for i, row in tqdm(dengue_df.iterrows())])\r\n"
   ],
   "outputs": [
    {
     "output_type": "stream",
     "name": "stderr",
     "text": [
      "1412it [00:43, 32.57it/s] \n"
     ]
    }
   ],
   "metadata": {}
  },
  {
   "cell_type": "code",
   "execution_count": 185,
   "source": [
    "dengue_df_parse['location'] = dengue_df_parse['location_name'].progress_apply(geocode)\r\n",
    "dengue_df_parse['point'] = dengue_df_parse['location'].progress_apply(lambda loc: tuple(loc.point) if loc else None)\r\n",
    "dengue_df_parse[['location_lat', 'location_lon', 'altitude']] = pd.DataFrame(dengue_df_parse['point'].tolist(), index=dengue_df_parse.index)\r\n",
    "dengue_df_parse = dengue_df_parse.drop(['location', 'point', 'altitude'], axis=1)\r\n",
    "dengue_df_parse = dengue_df_parse.reset_index(drop=True)"
   ],
   "outputs": [
    {
     "output_type": "stream",
     "name": "stderr",
     "text": [
      "100%|██████████| 788/788 [06:33<00:00,  2.00it/s]\n",
      "100%|██████████| 788/788 [00:00<00:00, 260101.64it/s]\n"
     ]
    }
   ],
   "metadata": {}
  },
  {
   "cell_type": "code",
   "execution_count": 186,
   "source": [
    "dengue_df_parse.to_feather('dengue_df.feather')"
   ],
   "outputs": [],
   "metadata": {}
  },
  {
   "cell_type": "code",
   "execution_count": 187,
   "source": [
    "dengue_df = pd.read_feather('dengue_df.feather')\r\n",
    "other_df = pd.read_feather('dataset.v1.1.feather')"
   ],
   "outputs": [],
   "metadata": {}
  },
  {
   "cell_type": "code",
   "execution_count": 188,
   "source": [
    "dengue_df = dengue_df.rename({'confirmed_cases': 'cases'}, axis=1)\r\n",
    "full_df = pd.concat([dengue_df,other_df], axis=0, ignore_index=True)"
   ],
   "outputs": [],
   "metadata": {}
  },
  {
   "cell_type": "code",
   "execution_count": 189,
   "source": [
    "len(full_df)"
   ],
   "outputs": [
    {
     "output_type": "execute_result",
     "data": {
      "text/plain": [
       "2112"
      ]
     },
     "metadata": {},
     "execution_count": 189
    }
   ],
   "metadata": {}
  },
  {
   "cell_type": "code",
   "execution_count": 190,
   "source": [
    "full_df = full_df.drop(['Unnamed: 0', 'index'], axis=1)"
   ],
   "outputs": [],
   "metadata": {}
  },
  {
   "cell_type": "code",
   "execution_count": 191,
   "source": [
    "full_df.to_feather('dataset.v1.2.feather')"
   ],
   "outputs": [],
   "metadata": {}
  },
  {
   "cell_type": "code",
   "execution_count": 192,
   "source": [
    "full_df.iloc[0]"
   ],
   "outputs": [
    {
     "output_type": "execute_result",
     "data": {
      "text/plain": [
       "id                                                                 8163513\n",
       "title                                 ['Dengue/DHF update (01): Americas']\n",
       "zoom_lat                                                          23.95046\n",
       "zoom_lon                                                        -102.53289\n",
       "zoom_level                                                               5\n",
       "alert_id                                                           8163513\n",
       "feed_id                                                                  1\n",
       "summary                          PRO/EDR> Dengue/DHF update (01): Americas\n",
       "issue_date                                             2021-02-04 06:39:21\n",
       "load_date                                              2021-02-04 06:39:21\n",
       "incident_date                                                          NaN\n",
       "descr                    Cases by Country / Week updated / Serotype / T...\n",
       "alert_tag_id                                                           NaN\n",
       "dup_count                                                                0\n",
       "dup_of                                                                 NaN\n",
       "unique_string                                              20210204.816351\n",
       "info_hash                                                             None\n",
       "submitted_by                                                        3419.0\n",
       "reviewed                                                              None\n",
       "search_string_id                                                       NaN\n",
       "content                  DENGUE/DHF UPDATE (01): AMERICAS\\n************...\n",
       "disease                                                             dengue\n",
       "gpm_lat_idx                                                           1139\n",
       "gpm_lon_idx                                                            774\n",
       "precipitation_anomaly                                            -0.976294\n",
       "location_name                                                          USA\n",
       "dates_start                                            2021-01-02 00:00:00\n",
       "serotype                                                                 -\n",
       "total_cases                                                          307.0\n",
       "cases                                                                307.0\n",
       "severe_cases                                                           0.0\n",
       "deaths                                                                 0.0\n",
       "location_lat                                                      39.78373\n",
       "location_lon                                                   -100.445882\n",
       "admin1_code                                                            NaN\n",
       "admin2_code                                                            NaN\n",
       "admin3_code                                                            NaN\n",
       "admin4_code                                                            NaN\n",
       "cases_tags                                                             NaN\n",
       "deaths_tags                                                            NaN\n",
       "dates_end                                                              NaT\n",
       "Name: 0, dtype: object"
      ]
     },
     "metadata": {},
     "execution_count": 192
    }
   ],
   "metadata": {}
  },
  {
   "cell_type": "code",
   "execution_count": null,
   "source": [],
   "outputs": [],
   "metadata": {}
  },
  {
   "cell_type": "code",
   "execution_count": 193,
   "source": [
    "full_df[(full_df['disease'] == 'dengue') & full_df['cases'] > 1000]"
   ],
   "outputs": [
    {
     "output_type": "execute_result",
     "data": {
      "text/plain": [
       "Empty DataFrame\n",
       "Columns: [id, title, zoom_lat, zoom_lon, zoom_level, alert_id, feed_id, summary, issue_date, load_date, incident_date, descr, alert_tag_id, dup_count, dup_of, unique_string, info_hash, submitted_by, reviewed, search_string_id, content, disease, gpm_lat_idx, gpm_lon_idx, precipitation_anomaly, location_name, dates_start, serotype, total_cases, cases, severe_cases, deaths, location_lat, location_lon, admin1_code, admin2_code, admin3_code, admin4_code, cases_tags, deaths_tags, dates_end]\n",
       "Index: []\n",
       "\n",
       "[0 rows x 41 columns]"
      ],
      "text/html": [
       "<div>\n",
       "<style scoped>\n",
       "    .dataframe tbody tr th:only-of-type {\n",
       "        vertical-align: middle;\n",
       "    }\n",
       "\n",
       "    .dataframe tbody tr th {\n",
       "        vertical-align: top;\n",
       "    }\n",
       "\n",
       "    .dataframe thead th {\n",
       "        text-align: right;\n",
       "    }\n",
       "</style>\n",
       "<table border=\"1\" class=\"dataframe\">\n",
       "  <thead>\n",
       "    <tr style=\"text-align: right;\">\n",
       "      <th></th>\n",
       "      <th>id</th>\n",
       "      <th>title</th>\n",
       "      <th>zoom_lat</th>\n",
       "      <th>zoom_lon</th>\n",
       "      <th>zoom_level</th>\n",
       "      <th>alert_id</th>\n",
       "      <th>feed_id</th>\n",
       "      <th>summary</th>\n",
       "      <th>issue_date</th>\n",
       "      <th>load_date</th>\n",
       "      <th>...</th>\n",
       "      <th>deaths</th>\n",
       "      <th>location_lat</th>\n",
       "      <th>location_lon</th>\n",
       "      <th>admin1_code</th>\n",
       "      <th>admin2_code</th>\n",
       "      <th>admin3_code</th>\n",
       "      <th>admin4_code</th>\n",
       "      <th>cases_tags</th>\n",
       "      <th>deaths_tags</th>\n",
       "      <th>dates_end</th>\n",
       "    </tr>\n",
       "  </thead>\n",
       "  <tbody>\n",
       "  </tbody>\n",
       "</table>\n",
       "<p>0 rows × 41 columns</p>\n",
       "</div>"
      ]
     },
     "metadata": {},
     "execution_count": 193
    }
   ],
   "metadata": {}
  },
  {
   "cell_type": "code",
   "execution_count": null,
   "source": [],
   "outputs": [],
   "metadata": {}
  }
 ],
 "metadata": {
  "orig_nbformat": 4,
  "language_info": {
   "name": "python",
   "version": "3.9.6",
   "mimetype": "text/x-python",
   "codemirror_mode": {
    "name": "ipython",
    "version": 3
   },
   "pygments_lexer": "ipython3",
   "nbconvert_exporter": "python",
   "file_extension": ".py"
  },
  "kernelspec": {
   "name": "python3",
   "display_name": "Python 3.9.6 64-bit ('geopandas': conda)"
  },
  "interpreter": {
   "hash": "3387528f949e08a7465409a492fe128ebdb03217a22eb98a1ae9d56d862b3753"
  }
 },
 "nbformat": 4,
 "nbformat_minor": 2
}